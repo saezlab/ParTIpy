{
 "cells": [
  {
   "cell_type": "code",
   "execution_count": 80,
   "metadata": {},
   "outputs": [],
   "source": [
    "import pytest\n",
    "import numpy as np\n",
    "from scipy.optimize import linear_sum_assignment\n",
    "\n",
    "from ParTIpy.arch import AA\n",
    "from ParTIpy.generate_test_data import simulate\n",
    "\n",
    "def compute_dist_mtx(mtx_1, mtx_2):\n",
    "    AB = np.dot(mtx_1, mtx_2.T)\n",
    "    AA = np.sum(np.square(mtx_1), axis=1)\n",
    "    BB = np.sum(np.square(mtx_2), axis=1)\n",
    "    dist_mtx = (BB - 2 * AB).T + AA\n",
    "    dist_mtx[np.isclose(dist_mtx, 0)] = (\n",
    "        0  # avoid problems if we get small negative numbers due to numerical inaccuracies\n",
    "    )\n",
    "    dist_mtx = np.sqrt(dist_mtx)\n",
    "    return dist_mtx\n",
    "\n",
    "def align_archetypes(ref_arch, query_arch):\n",
    "    # not sure if copy here is needed, compute_dist_mtx should not modify the matrices\n",
    "    euclidean_d = compute_dist_mtx(ref_arch, query_arch.copy()).T\n",
    "    ref_idx, query_idx = linear_sum_assignment(euclidean_d)\n",
    "    return query_arch[query_idx, :]\n",
    "\n",
    "N_SAMPLES = 1_000\n",
    "N_ARCHETYPES = 4\n",
    "N_DIMENSIONS = 10\n",
    "MIN_CORR = 0.95\n",
    "\n",
    "X, A, Z = simulate(n_samples=N_SAMPLES, \n",
    "                   n_archetypes=N_ARCHETYPES, \n",
    "                   n_dimensions=10, \n",
    "                   noise_std=0.0)"
   ]
  },
  {
   "cell_type": "code",
   "execution_count": 81,
   "metadata": {},
   "outputs": [],
   "source": [
    "A_hat, B_hat, Z_hat, RSS, varexpl = \\\n",
    "    AA(n_archetypes=N_ARCHETYPES, optim=\"projected_gradients\").fit(X).return_all()\n",
    "Z_hat = align_archetypes(Z, Z_hat)"
   ]
  },
  {
   "cell_type": "code",
   "execution_count": 82,
   "metadata": {},
   "outputs": [],
   "source": [
    "def compute_rowwise_correlation(mtx_1, mtx_2):\n",
    "    assert np.all(mtx_1.shape == mtx_2.shape)\n",
    "    mtx_1 = mtx_1 - mtx_1.mean(axis=1, keepdims=True)\n",
    "    mtx_1 /= mtx_1.std(axis=1, keepdims=True)\n",
    "    mtx_2 = mtx_2 - mtx_2.mean(axis=1, keepdims=True)\n",
    "    mtx_2 /= mtx_2.std(axis=1, keepdims=True)\n",
    "    corr_vec = np.mean(mtx_1 * mtx_2, axis=1)\n",
    "    return corr_vec"
   ]
  },
  {
   "cell_type": "code",
   "execution_count": 84,
   "metadata": {},
   "outputs": [],
   "source": [
    "assert np.all(compute_rowwise_correlation(Z, Z_hat) > MIN_CORR)"
   ]
  },
  {
   "cell_type": "code",
   "execution_count": null,
   "metadata": {},
   "outputs": [],
   "source": []
  },
  {
   "cell_type": "code",
   "execution_count": null,
   "metadata": {},
   "outputs": [],
   "source": []
  }
 ],
 "metadata": {
  "kernelspec": {
   "display_name": "partipy",
   "language": "python",
   "name": "python3"
  },
  "language_info": {
   "codemirror_mode": {
    "name": "ipython",
    "version": 3
   },
   "file_extension": ".py",
   "mimetype": "text/x-python",
   "name": "python",
   "nbconvert_exporter": "python",
   "pygments_lexer": "ipython3",
   "version": "3.11.11"
  }
 },
 "nbformat": 4,
 "nbformat_minor": 2
}
