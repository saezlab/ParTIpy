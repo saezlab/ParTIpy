{
 "cells": [
  {
   "cell_type": "code",
   "execution_count": null,
   "metadata": {},
   "outputs": [],
   "source": [
    "import sys\n",
    "\n",
    "sys.path.append(\"..\")\n",
    "# this is what you need for python script\n",
    "# sys.path.append(os.path.abspath(os.path.join(os.path.dirname(__file__), '..')))\n",
    "\n",
    "import numpy as np\n",
    "import pandas as pd\n",
    "import matplotlib.pyplot as plt\n",
    "import seaborn as sns\n",
    "\n",
    "from ParTIpy.arch import AA\n",
    "from ParTIpy.generate_test_data import simulate\n",
    "from ParTIpy.const import OPTIM_ALGS\n",
    "\n",
    "N_SAMPLES = 20_000\n",
    "N_ARCHETYPES = 8\n",
    "N_DIMENSIONS = 20\n",
    "\n",
    "X, A, Z = simulate(n_samples=N_SAMPLES, \n",
    "                   n_archetypes=N_ARCHETYPES, \n",
    "                   n_dimensions=N_DIMENSIONS, \n",
    "                   noise_std=0.0)"
   ]
  },
  {
   "cell_type": "code",
   "execution_count": null,
   "metadata": {},
   "outputs": [],
   "source": [
    "df_list = []\n",
    "for optim_alg in OPTIM_ALGS:\n",
    "    AA_object = AA(n_archetypes=N_ARCHETYPES, \n",
    "                   weight=None,\n",
    "                   optim=optim_alg, \n",
    "                   init=\"random\",\n",
    "                   max_iter=100).fit(X)\n",
    "    df_list.append(pd.DataFrame({\n",
    "        \"rss\": AA_object.RSS_trace.copy(),\n",
    "        \"iteration\": np.arange(len(AA_object.RSS_trace)),\n",
    "        \"algorithm\": optim_alg\n",
    "    }))\n",
    "plot_df = pd.concat(df_list, axis=0)\n",
    "plot_df"
   ]
  },
  {
   "cell_type": "code",
   "execution_count": null,
   "metadata": {},
   "outputs": [],
   "source": [
    "plt.style.use(\"dark_background\")\n",
    "sns.lineplot(data=plot_df, x=\"iteration\", y=\"rss\", hue=\"algorithm\")\n",
    "plt.xlabel(\"Iteration\")\n",
    "plt.ylabel(\"Residual Sum of Squares (RSS)\")\n",
    "plt.show()"
   ]
  },
  {
   "cell_type": "code",
   "execution_count": null,
   "metadata": {},
   "outputs": [],
   "source": []
  },
  {
   "cell_type": "code",
   "execution_count": null,
   "metadata": {},
   "outputs": [],
   "source": []
  },
  {
   "cell_type": "code",
   "execution_count": null,
   "metadata": {},
   "outputs": [],
   "source": []
  }
 ],
 "metadata": {
  "kernelspec": {
   "display_name": "partipy",
   "language": "python",
   "name": "python3"
  },
  "language_info": {
   "codemirror_mode": {
    "name": "ipython",
    "version": 3
   },
   "file_extension": ".py",
   "mimetype": "text/x-python",
   "name": "python",
   "nbconvert_exporter": "python",
   "pygments_lexer": "ipython3",
   "version": "3.11.11"
  }
 },
 "nbformat": 4,
 "nbformat_minor": 2
}
